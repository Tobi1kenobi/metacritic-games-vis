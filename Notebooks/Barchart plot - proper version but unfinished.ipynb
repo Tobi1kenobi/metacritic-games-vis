{
 "cells": [
  {
   "cell_type": "code",
   "execution_count": 55,
   "metadata": {},
   "outputs": [],
   "source": [
    "import matplotlib.pyplot as plt\n",
    "import plotly as py\n",
    "import pandas as pd\n",
    "import numpy as np\n",
    "import statistics"
   ]
  },
  {
   "cell_type": "code",
   "execution_count": 2,
   "metadata": {},
   "outputs": [
    {
     "data": {
      "text/html": [
       "<div>\n",
       "<style scoped>\n",
       "    .dataframe tbody tr th:only-of-type {\n",
       "        vertical-align: middle;\n",
       "    }\n",
       "\n",
       "    .dataframe tbody tr th {\n",
       "        vertical-align: top;\n",
       "    }\n",
       "\n",
       "    .dataframe thead th {\n",
       "        text-align: right;\n",
       "    }\n",
       "</style>\n",
       "<table border=\"1\" class=\"dataframe\">\n",
       "  <thead>\n",
       "    <tr style=\"text-align: right;\">\n",
       "      <th></th>\n",
       "      <th>metascore</th>\n",
       "      <th>name</th>\n",
       "      <th>console</th>\n",
       "      <th>userscore</th>\n",
       "      <th>date</th>\n",
       "      <th>year</th>\n",
       "    </tr>\n",
       "  </thead>\n",
       "  <tbody>\n",
       "    <tr>\n",
       "      <th>3261</th>\n",
       "      <td>75</td>\n",
       "      <td>Super Bust-A-Move</td>\n",
       "      <td>PS2</td>\n",
       "      <td>NaN</td>\n",
       "      <td>Nov 26, 2000</td>\n",
       "      <td>2000.0</td>\n",
       "    </tr>\n",
       "    <tr>\n",
       "      <th>3293</th>\n",
       "      <td>73</td>\n",
       "      <td>NASCAR 2001</td>\n",
       "      <td>PS</td>\n",
       "      <td>6.1</td>\n",
       "      <td>Sep 19, 2000</td>\n",
       "      <td>2000.0</td>\n",
       "    </tr>\n",
       "    <tr>\n",
       "      <th>3200</th>\n",
       "      <td>81</td>\n",
       "      <td>NASCAR Heat</td>\n",
       "      <td>PC</td>\n",
       "      <td>7.7</td>\n",
       "      <td>Sep 27, 2000</td>\n",
       "      <td>2000.0</td>\n",
       "    </tr>\n",
       "    <tr>\n",
       "      <th>5288</th>\n",
       "      <td>59</td>\n",
       "      <td>Tomb Raider: Chronicles</td>\n",
       "      <td>DC</td>\n",
       "      <td>8.3</td>\n",
       "      <td>Nov 19, 2000</td>\n",
       "      <td>2000.0</td>\n",
       "    </tr>\n",
       "    <tr>\n",
       "      <th>1470</th>\n",
       "      <td>85</td>\n",
       "      <td>American McGee's Alice</td>\n",
       "      <td>PC</td>\n",
       "      <td>8</td>\n",
       "      <td>Dec 6, 2000</td>\n",
       "      <td>2000.0</td>\n",
       "    </tr>\n",
       "  </tbody>\n",
       "</table>\n",
       "</div>"
      ],
      "text/plain": [
       "      metascore                     name console userscore          date  \\\n",
       "3261         75        Super Bust-A-Move     PS2       NaN  Nov 26, 2000   \n",
       "3293         73              NASCAR 2001      PS       6.1  Sep 19, 2000   \n",
       "3200         81              NASCAR Heat      PC       7.7  Sep 27, 2000   \n",
       "5288         59  Tomb Raider: Chronicles      DC       8.3  Nov 19, 2000   \n",
       "1470         85   American McGee's Alice      PC         8   Dec 6, 2000   \n",
       "\n",
       "        year  \n",
       "3261  2000.0  \n",
       "3293  2000.0  \n",
       "3200  2000.0  \n",
       "5288  2000.0  \n",
       "1470  2000.0  "
      ]
     },
     "execution_count": 2,
     "metadata": {},
     "output_type": "execute_result"
    }
   ],
   "source": [
    "#Load games\n",
    "meta_games = pd.read_csv('Data/result.csv')\n",
    "\n",
    "#to_drop = [\"name\", \"console\",\"userscore\"]\n",
    "#metascore_date_df = meta_games.copy()\n",
    "#metascore_date_df.drop(to_drop, inplace=True, axis=1)\n",
    "\n",
    "meta_games['year'] = np.nan\n",
    "meta_games.replace('tbd', np.nan)\n",
    "\n",
    "for i, row in meta_games.iterrows():\n",
    "    year_value = meta_games['date'][i].split(',')[1].strip()\n",
    "    meta_games.at[i,'year'] = int(year_value)\n",
    "\n",
    "meta_games = meta_games.replace('tbd', np.nan)\n",
    "meta_games_years = {}\n",
    "\n",
    "# make a dict of meta_game dataframes for each year from 2000 to 2019\n",
    "for i in range(2000,2019):\n",
    "    meta_games_years[i] = meta_games[(meta_games['year'] == i)]\n",
    "    \n",
    "meta_games_years[2000].sample(5)\n"
   ]
  },
  {
   "cell_type": "code",
   "execution_count": 3,
   "metadata": {
    "scrolled": true
   },
   "outputs": [
    {
     "data": {
      "image/png": "[encoded data removed]",
      "text/plain": [
       "<Figure size 432x288 with 1 Axes>"
      ]
     },
     "metadata": {
      "needs_background": "light"
     },
     "output_type": "display_data"
    }
   ],
   "source": [
    "#Histogram with number of bins set to number of unique metascores\n",
    "df = meta_games_years[2018]['metascore']\n",
    "list1 = np.unique(meta_games_years[2018]['metascore']).shape\n",
    "bins = list1[0]\n",
    "hist = df.hist(bins=bins)"
   ]
  },
  {
   "cell_type": "code",
   "execution_count": 76,
   "metadata": {},
   "outputs": [
    {
     "data": {
      "image/png": "[encoded data removed]",
      "text/plain": [
       "<Figure size 432x288 with 1 Axes>"
      ]
     },
     "metadata": {
      "needs_background": "light"
     },
     "output_type": "display_data"
    }
   ],
   "source": [
    "#Barchart for metascores for given year\n",
    "#Needs slider to switch between years\n",
    "\n",
    "#make a list of all metascores from given year, and array into list\n",
    "metascore_year = np.flip((meta_games_years[2018]['metascore']))\n",
    "metascore_year = list(metascore_year)\n",
    "\n",
    "\n",
    "# go thorugh every number from 0 to 100, for each number, count how reviews there are with that value\n",
    "# append number to list, such that each number on list represents how many reviews there are at that index.\n",
    "score_freq=[]\n",
    "for i in range(100):\n",
    "    score_freq.append(metascore_year.count(i))\n",
    "    \n",
    "# set range for x axis to be range from 0 to 100\n",
    "x_range = list(range(100))\n",
    "index2 = np.arange(len(x_range))\n",
    "plt.ylim(top=49)\n",
    "plt.bar(index2, score_freq)\n",
    "#plt.savefig('2018.png')\n",
    "plt.show()"
   ]
  },
  {
   "cell_type": "code",
   "execution_count": 78,
   "metadata": {},
   "outputs": [
    {
     "data": {
      "text/plain": [
       "73"
      ]
     },
     "execution_count": 78,
     "metadata": {},
     "output_type": "execute_result"
    }
   ],
   "source": [
    "metascore_year = np.flip((meta_games_years[2001]['metascore']))\n",
    "metascore_year = list(metascore_year)\n",
    "#mean and median for year\n",
    "sum(metascore_year) / float(len(metascore_year))\n",
    "statistics.median(metascore_year)"
   ]
  }
 ],
 "metadata": {
  "kernelspec": {
   "display_name": "Python 3",
   "language": "python",
   "name": "python3"
  },
  "language_info": {
   "codemirror_mode": {
    "name": "ipython",
    "version": 3
   },
   "file_extension": ".py",
   "mimetype": "text/x-python",
   "name": "python",
   "nbconvert_exporter": "python",
   "pygments_lexer": "ipython3",
   "version": "3.7.1"
  }
 },
 "nbformat": 4,
 "nbformat_minor": 2
}
